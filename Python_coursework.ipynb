{
 "cells": [
  {
   "cell_type": "markdown",
   "id": "bd4d4f5d-0cf1-4d80-8889-e55210572c5c",
   "metadata": {},
   "source": [
    "# Ultimatly this code will hopefully be able to predict whether a protein is likely to be secreted via the Sec or Tat system, or not secreted at all, based on the protein sequence input "
   ]
  },
  {
   "cell_type": "markdown",
   "id": "e3ec03d3-fce9-44a1-9564-99050f363a77",
   "metadata": {},
   "source": [
    "## Section one"
   ]
  },
  {
   "cell_type": "markdown",
   "id": "0d0c9859-c0f3-42a7-8313-d0518689bba9",
   "metadata": {},
   "source": [
    "In the first section of the code the data needs to be downloaded and sorted into sequences that are secreted by Sec, secreted by Tat or not secreted "
   ]
  },
  {
   "cell_type": "markdown",
   "id": "19ecc209-cae1-4e54-b35b-a14d1f4f2786",
   "metadata": {},
   "source": [
    "**Step one**: Read in protein sequences from the protein database, that have been filtered to contain a signal sequence (a feature of secreted proteins) and are present in *E. coli* (my organism of interest). This data should contain the entry and the sequence of the respective protieins"
   ]
  },
  {
   "cell_type": "code",
   "execution_count": 19,
   "id": "4f00aab1-54d4-47a9-8635-3170440699c0",
   "metadata": {
    "tags": []
   },
   "outputs": [
    {
     "name": "stdout",
     "output_type": "stream",
     "text": [
      "      Entry                                           Sequence\n",
      "0    P00634  MKQSTIALALLPLLFTPVTKARTPEMPVLENRAAQGDITAPGGARR...\n",
      "1    P00805  MEFFKKTALAALVMGFSGAALALPNITILATGGTIAGGGDSATKSN...\n",
      "2    P00811  MFKTTLCALLITASCSTFAAPQQINDIVHRTITPLIEQQKIPGMAV...\n",
      "3    P02925  MNMKKLATLVSAVALSATVSANAMAKDTIALVVSTLNNPFFVSLKD...\n",
      "4    P02930  MKKLLPILIGLSLSGFSSLSQAENLMQVYQQARLSNPELRKSAADR...\n",
      "..      ...                                                ...\n",
      "508  Q47702  MKKIICLVITLLMTLPVYAKLTAHEEARINAMLEGLAQKKDLIFVR...\n",
      "509  Q6BEX5  MKRFPLFLLFTLLTLSTVPAQADIIDDTIGNIQQAINDAYNPDRGR...\n",
      "510  Q9JMR4  MCPECFFLMLFFCGYRACYCSSSFSSSSSSSSSSSFRSSPAYGFSG...\n",
      "511  Q9JMR5  MCCVYRMNRPASGLTVVFCGKLSGKPGPKSAAWRMPWQKSGADDGG...\n",
      "512  Q9JMT5  MFNRRVLFLSVFSCAVFMLSGCSSNRFASRDANATYVNTQLKIIPR...\n",
      "\n",
      "[513 rows x 2 columns]\n"
     ]
    }
   ],
   "source": [
    "import pandas as pd\n",
    "\n",
    "df1 = pd.read_csv(\"https://raw.githubusercontent.com/DHavers/Python-Assignment/main/231215_ecoli_signalseq.csv\")\n",
    "print(df1)"
   ]
  },
  {
   "cell_type": "markdown",
   "id": "9b7584e5-4b25-4ac0-94a6-f01478ff1df6",
   "metadata": {},
   "source": [
    "**Step two:** Create a column containing the first 30 amino acids (aa) - this is the signal sequence of the secreted proteins, so they can then be investigated to catagorise the proteins secretion system in Step three."
   ]
  },
  {
   "cell_type": "code",
   "execution_count": 20,
   "id": "e039dca2-bc53-41ce-a0b9-dc6a79347b1e",
   "metadata": {
    "tags": []
   },
   "outputs": [
    {
     "name": "stdout",
     "output_type": "stream",
     "text": [
      "      Entry                                           Sequence  \\\n",
      "0    P00634  MKQSTIALALLPLLFTPVTKARTPEMPVLENRAAQGDITAPGGARR...   \n",
      "1    P00805  MEFFKKTALAALVMGFSGAALALPNITILATGGTIAGGGDSATKSN...   \n",
      "2    P00811  MFKTTLCALLITASCSTFAAPQQINDIVHRTITPLIEQQKIPGMAV...   \n",
      "3    P02925  MNMKKLATLVSAVALSATVSANAMAKDTIALVVSTLNNPFFVSLKD...   \n",
      "4    P02930  MKKLLPILIGLSLSGFSSLSQAENLMQVYQQARLSNPELRKSAADR...   \n",
      "..      ...                                                ...   \n",
      "508  Q47702  MKKIICLVITLLMTLPVYAKLTAHEEARINAMLEGLAQKKDLIFVR...   \n",
      "509  Q6BEX5  MKRFPLFLLFTLLTLSTVPAQADIIDDTIGNIQQAINDAYNPDRGR...   \n",
      "510  Q9JMR4  MCPECFFLMLFFCGYRACYCSSSFSSSSSSSSSSSFRSSPAYGFSG...   \n",
      "511  Q9JMR5  MCCVYRMNRPASGLTVVFCGKLSGKPGPKSAAWRMPWQKSGADDGG...   \n",
      "512  Q9JMT5  MFNRRVLFLSVFSCAVFMLSGCSSNRFASRDANATYVNTQLKIIPR...   \n",
      "\n",
      "                         Signal seq  \n",
      "0    MKQSTIALALLPLLFTPVTKARTPEMPVLE  \n",
      "1    MEFFKKTALAALVMGFSGAALALPNITILA  \n",
      "2    MFKTTLCALLITASCSTFAAPQQINDIVHR  \n",
      "3    MNMKKLATLVSAVALSATVSANAMAKDTIA  \n",
      "4    MKKLLPILIGLSLSGFSSLSQAENLMQVYQ  \n",
      "..                              ...  \n",
      "508  MKKIICLVITLLMTLPVYAKLTAHEEARIN  \n",
      "509  MKRFPLFLLFTLLTLSTVPAQADIIDDTIG  \n",
      "510  MCPECFFLMLFFCGYRACYCSSSFSSSSSS  \n",
      "511  MCCVYRMNRPASGLTVVFCGKLSGKPGPKS  \n",
      "512  MFNRRVLFLSVFSCAVFMLSGCSSNRFASR  \n",
      "\n",
      "[513 rows x 3 columns]\n"
     ]
    }
   ],
   "source": [
    "# I am defining a function to select the first 30aa in each sequence\n",
    "\n",
    "def signal_seq(sequence):\n",
    "    \"\"\"\n",
    "    Count the fist 30 amino acids in the given sequence.\n",
    "    \"\"\"\n",
    "    return sequence[:30] if len(sequence) >= 30 else sequence\n",
    "   \n",
    "signal_seq_list = []\n",
    "\n",
    "# I am adding the signal sequence of each protein into a new column on the dataframe\n",
    "\n",
    "for i in range(df1['Entry'].count()):\n",
    "    # print(df.loc[i,'Entry'])\n",
    "    signal_seq_list.append(signal_seq(df.loc[i,'Sequence']))\n",
    "\n",
    "df1['Signal seq'] = signal_seq_list\n",
    "\n",
    "\n",
    "print(df1)"
   ]
  },
  {
   "cell_type": "markdown",
   "id": "2beab634-4a4f-4103-a5dc-572b50d2210d",
   "metadata": {},
   "source": [
    "**Step three:** Search these signal sequences for the \"RR\" motif which is a known feature present in the signal sequences of protiens secreted by the Tat system. So if it is present the proteins secreteion system will be catagorised as tat and if that sequence motif isnt there catagorise as Sec (as these are the two secretion systems in *E.coli*"
   ]
  },
  {
   "cell_type": "code",
   "execution_count": 21,
   "id": "e7127bdd-461a-4cdc-9b4e-649abd47b0b1",
   "metadata": {
    "tags": []
   },
   "outputs": [
    {
     "name": "stdout",
     "output_type": "stream",
     "text": [
      "<function RR_motif at 0x12adcb7e0>\n",
      "      Entry                                           Sequence  \\\n",
      "0    P00634  MKQSTIALALLPLLFTPVTKARTPEMPVLENRAAQGDITAPGGARR...   \n",
      "1    P00805  MEFFKKTALAALVMGFSGAALALPNITILATGGTIAGGGDSATKSN...   \n",
      "2    P00811  MFKTTLCALLITASCSTFAAPQQINDIVHRTITPLIEQQKIPGMAV...   \n",
      "3    P02925  MNMKKLATLVSAVALSATVSANAMAKDTIALVVSTLNNPFFVSLKD...   \n",
      "4    P02930  MKKLLPILIGLSLSGFSSLSQAENLMQVYQQARLSNPELRKSAADR...   \n",
      "..      ...                                                ...   \n",
      "508  Q47702  MKKIICLVITLLMTLPVYAKLTAHEEARINAMLEGLAQKKDLIFVR...   \n",
      "509  Q6BEX5  MKRFPLFLLFTLLTLSTVPAQADIIDDTIGNIQQAINDAYNPDRGR...   \n",
      "510  Q9JMR4  MCPECFFLMLFFCGYRACYCSSSFSSSSSSSSSSSFRSSPAYGFSG...   \n",
      "511  Q9JMR5  MCCVYRMNRPASGLTVVFCGKLSGKPGPKSAAWRMPWQKSGADDGG...   \n",
      "512  Q9JMT5  MFNRRVLFLSVFSCAVFMLSGCSSNRFASRDANATYVNTQLKIIPR...   \n",
      "\n",
      "                         Signal seq Secretion system  \n",
      "0    MKQSTIALALLPLLFTPVTKARTPEMPVLE              sec  \n",
      "1    MEFFKKTALAALVMGFSGAALALPNITILA              sec  \n",
      "2    MFKTTLCALLITASCSTFAAPQQINDIVHR              sec  \n",
      "3    MNMKKLATLVSAVALSATVSANAMAKDTIA              sec  \n",
      "4    MKKLLPILIGLSLSGFSSLSQAENLMQVYQ              sec  \n",
      "..                              ...              ...  \n",
      "508  MKKIICLVITLLMTLPVYAKLTAHEEARIN              sec  \n",
      "509  MKRFPLFLLFTLLTLSTVPAQADIIDDTIG              sec  \n",
      "510  MCPECFFLMLFFCGYRACYCSSSFSSSSSS              sec  \n",
      "511  MCCVYRMNRPASGLTVVFCGKLSGKPGPKS              sec  \n",
      "512  MFNRRVLFLSVFSCAVFMLSGCSSNRFASR              tat  \n",
      "\n",
      "[513 rows x 4 columns]\n"
     ]
    }
   ],
   "source": [
    "# First, define a function that can count if \"RR\" is present in the singal sequence, and use this information to catagorise the secretion sysetm\n",
    "\n",
    "def RR_motif(signal_seq_list):\n",
    "    \"\"\"\n",
    "    Identify if \"RR\" is in the sequence \n",
    "    \"\"\"\n",
    "    if signal_seq_list.count(\"RR\") == 1:\n",
    "        return \"tat\"\n",
    "    else:\n",
    "        return \"sec\"\n",
    "    \n",
    "print(RR_motif)\n",
    "\n",
    "RR_motif_list = []\n",
    "\n",
    "# Create a new column in the data frame that will contain the information about the secretion system for each protein\n",
    "\n",
    "for i in range(df['Entry'].count()):\n",
    "    signal_sequence = df1.loc[i, 'Signal seq']\n",
    "    \n",
    "    system_label = RR_motif(signal_sequence)\n",
    "    \n",
    "    RR_motif_list.append(system_label)\n",
    "\n",
    "df1['Secretion system'] = RR_motif_list\n",
    "\n",
    "print(df1)\n"
   ]
  },
  {
   "cell_type": "markdown",
   "id": "07e7be60-585a-4fc9-97a2-b18ad2573563",
   "metadata": {},
   "source": [
    "**Step four:** Now an additional dataframe will be downloaded also from the protein database, this time filtered for *E.coli* proteins that do not contain signal sequences (and therefore are not secreted) "
   ]
  },
  {
   "cell_type": "code",
   "execution_count": 5,
   "id": "ca612ef4-e099-4866-8fdf-87f6e83f0f55",
   "metadata": {
    "tags": []
   },
   "outputs": [
    {
     "name": "stdout",
     "output_type": "stream",
     "text": [
      "       Entry                                           Sequence\n",
      "0     A5A616                    MLGNMNVFMAVLGIILFSGFLAAYFSHKWDD\n",
      "1     O32583  MQILFNDQAMQCAAGQTVHELLEQLDQRQAGAALAINQQIVPREQW...\n",
      "2     P00350  MSKQQIGVVGMAVMGRNLALNIESRGYTVSIFNRSREKTEEVIAEN...\n",
      "3     P00363  MQTFQADLAIVGAGGAGLRAAIAAAQANPNAKIALISKVYPMRSHT...\n",
      "4     P00370  MDQTYSLESFLNHVQKRDPNQTEFAQAVREVMTTLWPFLEQNPKYR...\n",
      "...      ...                                                ...\n",
      "4585  Q9S4X4  MPFDLLTVLFTRLDVEVNGFNGGVLNGVPSAYHWYTEQYGVKGPCG...\n",
      "4586  Q9S4X5  MPNWCSNRMYFSGEPAQIAEIKRLASGAVTPLYRRATNEGIQLFLA...\n",
      "4587  Q9XB42  MKIISKRRAMTIYRQHPESRIFRYCTGKYQWHGSVCHYTGRDVPDI...\n",
      "4588  Q9Z3A0  MIRKNKWLRFQTVCRYIPLSLKNHNRLVIFVCQRIEWRYIFSTNTG...\n",
      "4589  V9HVX0  MTIAERLRQEGHQIGWQEGKLEGLHEQAIKIALRMLEQGFDRDQVL...\n",
      "\n",
      "[4590 rows x 2 columns]\n"
     ]
    }
   ],
   "source": [
    "df2 = pd.read_csv(\"https://raw.githubusercontent.com/DHavers/Python-Assignment/main/231215_all_ecoli_proteins.csv\")\n",
    "print(df2)"
   ]
  },
  {
   "cell_type": "markdown",
   "id": "89d713af-41cf-4f69-b75a-3b6f0a6e470f",
   "metadata": {},
   "source": [
    "**Step five:** Now these dataframes need to be combined into a single dataframe that does not contain any protein duplicates so that later in the code a single dataframe containing all the proteins can be used "
   ]
  },
  {
   "cell_type": "code",
   "execution_count": 22,
   "id": "fb00a03f-8d0c-4173-bde4-443f91aca8a2",
   "metadata": {
    "tags": []
   },
   "outputs": [
    {
     "data": {
      "text/html": [
       "<div>\n",
       "<style scoped>\n",
       "    .dataframe tbody tr th:only-of-type {\n",
       "        vertical-align: middle;\n",
       "    }\n",
       "\n",
       "    .dataframe tbody tr th {\n",
       "        vertical-align: top;\n",
       "    }\n",
       "\n",
       "    .dataframe thead th {\n",
       "        text-align: right;\n",
       "    }\n",
       "</style>\n",
       "<table border=\"1\" class=\"dataframe\">\n",
       "  <thead>\n",
       "    <tr style=\"text-align: right;\">\n",
       "      <th></th>\n",
       "      <th>Entry</th>\n",
       "      <th>Sequence</th>\n",
       "      <th>Secretion system</th>\n",
       "    </tr>\n",
       "  </thead>\n",
       "  <tbody>\n",
       "    <tr>\n",
       "      <th>0</th>\n",
       "      <td>P00634</td>\n",
       "      <td>MKQSTIALALLPLLFTPVTKARTPEMPVLENRAAQGDITAPGGARR...</td>\n",
       "      <td>sec</td>\n",
       "    </tr>\n",
       "    <tr>\n",
       "      <th>1</th>\n",
       "      <td>P00805</td>\n",
       "      <td>MEFFKKTALAALVMGFSGAALALPNITILATGGTIAGGGDSATKSN...</td>\n",
       "      <td>sec</td>\n",
       "    </tr>\n",
       "    <tr>\n",
       "      <th>2</th>\n",
       "      <td>P00811</td>\n",
       "      <td>MFKTTLCALLITASCSTFAAPQQINDIVHRTITPLIEQQKIPGMAV...</td>\n",
       "      <td>sec</td>\n",
       "    </tr>\n",
       "    <tr>\n",
       "      <th>3</th>\n",
       "      <td>P02925</td>\n",
       "      <td>MNMKKLATLVSAVALSATVSANAMAKDTIALVVSTLNNPFFVSLKD...</td>\n",
       "      <td>sec</td>\n",
       "    </tr>\n",
       "    <tr>\n",
       "      <th>4</th>\n",
       "      <td>P02930</td>\n",
       "      <td>MKKLLPILIGLSLSGFSSLSQAENLMQVYQQARLSNPELRKSAADR...</td>\n",
       "      <td>sec</td>\n",
       "    </tr>\n",
       "    <tr>\n",
       "      <th>...</th>\n",
       "      <td>...</td>\n",
       "      <td>...</td>\n",
       "      <td>...</td>\n",
       "    </tr>\n",
       "    <tr>\n",
       "      <th>4585</th>\n",
       "      <td>Q9S4X4</td>\n",
       "      <td>MPFDLLTVLFTRLDVEVNGFNGGVLNGVPSAYHWYTEQYGVKGPCG...</td>\n",
       "      <td>N/A</td>\n",
       "    </tr>\n",
       "    <tr>\n",
       "      <th>4586</th>\n",
       "      <td>Q9S4X5</td>\n",
       "      <td>MPNWCSNRMYFSGEPAQIAEIKRLASGAVTPLYRRATNEGIQLFLA...</td>\n",
       "      <td>N/A</td>\n",
       "    </tr>\n",
       "    <tr>\n",
       "      <th>4587</th>\n",
       "      <td>Q9XB42</td>\n",
       "      <td>MKIISKRRAMTIYRQHPESRIFRYCTGKYQWHGSVCHYTGRDVPDI...</td>\n",
       "      <td>N/A</td>\n",
       "    </tr>\n",
       "    <tr>\n",
       "      <th>4588</th>\n",
       "      <td>Q9Z3A0</td>\n",
       "      <td>MIRKNKWLRFQTVCRYIPLSLKNHNRLVIFVCQRIEWRYIFSTNTG...</td>\n",
       "      <td>N/A</td>\n",
       "    </tr>\n",
       "    <tr>\n",
       "      <th>4589</th>\n",
       "      <td>V9HVX0</td>\n",
       "      <td>MTIAERLRQEGHQIGWQEGKLEGLHEQAIKIALRMLEQGFDRDQVL...</td>\n",
       "      <td>N/A</td>\n",
       "    </tr>\n",
       "  </tbody>\n",
       "</table>\n",
       "<p>4590 rows × 3 columns</p>\n",
       "</div>"
      ],
      "text/plain": [
       "       Entry                                           Sequence  \\\n",
       "0     P00634  MKQSTIALALLPLLFTPVTKARTPEMPVLENRAAQGDITAPGGARR...   \n",
       "1     P00805  MEFFKKTALAALVMGFSGAALALPNITILATGGTIAGGGDSATKSN...   \n",
       "2     P00811  MFKTTLCALLITASCSTFAAPQQINDIVHRTITPLIEQQKIPGMAV...   \n",
       "3     P02925  MNMKKLATLVSAVALSATVSANAMAKDTIALVVSTLNNPFFVSLKD...   \n",
       "4     P02930  MKKLLPILIGLSLSGFSSLSQAENLMQVYQQARLSNPELRKSAADR...   \n",
       "...      ...                                                ...   \n",
       "4585  Q9S4X4  MPFDLLTVLFTRLDVEVNGFNGGVLNGVPSAYHWYTEQYGVKGPCG...   \n",
       "4586  Q9S4X5  MPNWCSNRMYFSGEPAQIAEIKRLASGAVTPLYRRATNEGIQLFLA...   \n",
       "4587  Q9XB42  MKIISKRRAMTIYRQHPESRIFRYCTGKYQWHGSVCHYTGRDVPDI...   \n",
       "4588  Q9Z3A0  MIRKNKWLRFQTVCRYIPLSLKNHNRLVIFVCQRIEWRYIFSTNTG...   \n",
       "4589  V9HVX0  MTIAERLRQEGHQIGWQEGKLEGLHEQAIKIALRMLEQGFDRDQVL...   \n",
       "\n",
       "     Secretion system  \n",
       "0                 sec  \n",
       "1                 sec  \n",
       "2                 sec  \n",
       "3                 sec  \n",
       "4                 sec  \n",
       "...               ...  \n",
       "4585              N/A  \n",
       "4586              N/A  \n",
       "4587              N/A  \n",
       "4588              N/A  \n",
       "4589              N/A  \n",
       "\n",
       "[4590 rows x 3 columns]"
      ]
     },
     "execution_count": 22,
     "metadata": {},
     "output_type": "execute_result"
    }
   ],
   "source": [
    "# Merge dataframes on multiple columns ('sequence' and 'entry')\n",
    "merged_df = pd.merge(df1, df2, on=['Entry','Sequence'], how='outer', indicator=True)\n",
    "\n",
    "# Filter out the rows that have a match in both df and df2\n",
    "unique_rows = merged_df[merged_df['_merge'] == 'both'].drop(columns=['_merge'])\n",
    "\n",
    "# Change the \"NaN\" to \"N/A\" (for the proitens that are not secreted) so this can be used as a catagory later\n",
    "merged_df[\"Secretion system\"] = merged_df[\"Secretion system\"].fillna('N/A')\n",
    "\n",
    "# Tidy up what the dataframe looks like\n",
    "merged_df.drop(['Signal seq','_merge'], axis=1, inplace=True)\n",
    "df = merged_df\n",
    "df"
   ]
  },
  {
   "cell_type": "markdown",
   "id": "6a96c739-da4f-4bf1-a009-2253ac9756b7",
   "metadata": {},
   "source": [
    "Now I have a dataframe containing lots of *E. coli* protein sequences catagorised by their secretion system"
   ]
  },
  {
   "cell_type": "markdown",
   "id": "25b698e0-25ed-428e-b206-28e59c044782",
   "metadata": {},
   "source": [
    "# Section two:"
   ]
  },
  {
   "cell_type": "markdown",
   "id": "c7d05112-e841-4bb6-9430-01979b0daaa6",
   "metadata": {},
   "source": [
    "In the second section of this code we will investigate weather the amino acid composition of a protein may influence if and via what system the protein is secreted "
   ]
  },
  {
   "cell_type": "markdown",
   "id": "9d05a969-11f0-45dc-bbc1-be9144987149",
   "metadata": {},
   "source": [
    "**Step one:** Investigate the proteins amino acid composition using libraries and newly defined functions"
   ]
  },
  {
   "cell_type": "code",
   "execution_count": 28,
   "id": "31597262-bbdf-46b9-92f5-228069691292",
   "metadata": {
    "tags": []
   },
   "outputs": [
    {
     "data": {
      "image/png": "[encoded data removed]",
      "text/plain": [
       "<Figure size 1000x600 with 1 Axes>"
      ]
     },
     "metadata": {},
     "output_type": "display_data"
    }
   ],
   "source": [
    "import matplotlib.pyplot as plt\n",
    "from Bio.SeqUtils import ProtParam\n",
    "\n",
    "# Define a function to calculate amino acid composition\n",
    "def calculate_amino_acid_composition(sequence):\n",
    "    analyser = ProtParam.ProteinAnalysis(str(sequence))\n",
    "    return analyser.get_amino_acids_percent()\n",
    "\n",
    "# Calculate amino acid composition for each sequence\n",
    "df['Amino Acid Composition'] = df['Sequence'].apply(calculate_amino_acid_composition)\n",
    "\n",
    "# Convert the 'Amino Acid Composition' column into a dataframe\n",
    "amino_acid_df = pd.DataFrame(df['Amino Acid Composition'].tolist(), index=df.index)\n",
    "\n",
    "# Combine the 'Secretion system' column with the amino acid composition dataframe\n",
    "combined_df = pd.concat([df['Secretion system'], amino_acid_df], axis=1)\n",
    "\n",
    "# Group by 'Secretion system' and calculate the mean composition for each group\n",
    "grouped_df = combined_df.groupby('Secretion system').mean()\n",
    "\n",
    "# Plot the composition of all amino acids for each secretion system\n",
    "grouped_df.T.plot(kind='bar', figsize=(10, 6))\n",
    "plt.xlabel('Amino Acid')\n",
    "plt.ylabel('Mean Composition')\n",
    "plt.title('Mean Amino Acid Composition for Different Secretion Systems')\n",
    "plt.legend(title='Secretion System')\n",
    "plt.show()"
   ]
  },
  {
   "cell_type": "markdown",
   "id": "168e7ee2-40bb-4dcc-a2ce-ac493ba8a579",
   "metadata": {},
   "source": [
    "There appears to be some differences between the amino acid composition of the different catagories so next we can develop a model to use the amino acid composition of the sequence to predict the protein secretion system"
   ]
  },
  {
   "cell_type": "markdown",
   "id": "7a448cb5-9e57-479d-a291-e50219e10209",
   "metadata": {},
   "source": [
    "**Step two:** Use this to create a model using a Random Forrest Classifier"
   ]
  },
  {
   "cell_type": "code",
   "execution_count": 93,
   "id": "c1e218df-156e-4a72-a049-d67fd7c96662",
   "metadata": {
    "tags": []
   },
   "outputs": [
    {
     "name": "stdout",
     "output_type": "stream",
     "text": [
      "Accuracy: 0.9146341463414634\n"
     ]
    }
   ],
   "source": [
    "from sklearn.ensemble import RandomForestClassifier\n",
    "from sklearn.model_selection import train_test_split\n",
    "from sklearn.metrics import accuracy_score\n",
    "\n",
    "# Feature matrix X (amino acid composition) and target variable y (Secreted)\n",
    "X = pd.DataFrame(list(df['Amino Acid Composition']))\n",
    "y = df['Secretion system']\n",
    "\n",
    "# Split the data into training and testing sets\n",
    "X_train, X_test, y_train, y_test = train_test_split(X, y)\n",
    "\n",
    "# Train a RandomForest classifier\n",
    "classifier = RandomForestClassifier()\n",
    "classifier.fit(X_train, y_train)\n",
    "\n",
    "# Make predictions on the test set\n",
    "y_pred = classifier.predict(X_test)\n",
    "\n",
    "# Evaluate accuracy\n",
    "accuracy = accuracy_score(y_test, y_pred)\n",
    "print(f'Accuracy: {accuracy}')"
   ]
  },
  {
   "cell_type": "markdown",
   "id": "3d646fd9-433c-473b-b366-b7f4b28314fe",
   "metadata": {},
   "source": [
    "**Step three:** Trying to understand what is important for this model to make its predictions "
   ]
  },
  {
   "cell_type": "code",
   "execution_count": 35,
   "id": "eef1d8d5-7566-47f6-a69f-0bba2894dbc5",
   "metadata": {
    "tags": []
   },
   "outputs": [
    {
     "data": {
      "image/png": "[encoded data removed]",
      "text/plain": [
       "<Figure size 1200x600 with 1 Axes>"
      ]
     },
     "metadata": {},
     "output_type": "display_data"
    }
   ],
   "source": [
    "# Train a RandomForest classifier\n",
    "classifier = RandomForestClassifier()\n",
    "classifier.fit(X_train, y_train)\n",
    "\n",
    "# Get feature importances\n",
    "feature_importances = classifier.feature_importances_\n",
    "\n",
    "# Create a dataframe to display feature importances\n",
    "importance_df = pd.DataFrame({'Amino Acid': amino_acid_df.columns, 'Importance': feature_importances})\n",
    "\n",
    "# Sort the dataframe by importance in descending order\n",
    "importance_df = importance_df.sort_values(by='Importance', ascending=False)\n",
    "\n",
    "# Plot the feature importances\n",
    "plt.figure(figsize=(12, 6))\n",
    "plt.bar(importance_df['Amino Acid'], importance_df['Importance'])\n",
    "plt.xlabel('Amino Acid')\n",
    "plt.ylabel('Importance')\n",
    "plt.title('Feature Importance for Secretion System Prediction')\n",
    "plt.xticks(rotation=45)\n",
    "plt.show()"
   ]
  },
  {
   "cell_type": "markdown",
   "id": "ae9a2c61-c9a8-40ae-8395-4eb87d334d45",
   "metadata": {},
   "source": [
    "**Step four:** To understand this representation more intuitivly it would be good to visully represent certain catagorise of amino acids"
   ]
  },
  {
   "cell_type": "code",
   "execution_count": 87,
   "id": "0baab740-7e2d-4ee4-bf5e-01252e416bf3",
   "metadata": {
    "tags": []
   },
   "outputs": [
    {
     "name": "stdout",
     "output_type": "stream",
     "text": [
      "Positively charged Amino Acids (K, R, H): Lysine, Arginine, Histidine\n",
      "Negatively charged Amino Acids (D, E): Aspartic Acid, Glutamic Acid\n",
      "Uncharged Amino Acids (S, T, N, Q): Serine, Threonine, Asparagine, Glutamine\n",
      "Hydrophobic Amino Acids (A, V, L, I, M, F, W, Y): Alanine, Valine, Leucine, Isoleucine, Methionine, Phenylalanine, Tryptophan, Tyrosine\n",
      "Special cases Amino Acids (C, G, P): Cysteine, Glycine, Proline\n"
     ]
    }
   ],
   "source": [
    "# Create a dictionary of amino acid categories with one-letter codes\n",
    "amino_acid_categories = {\n",
    "    'Positively charged': ['K', 'R', 'H'],\n",
    "    'Negatively charged': ['D', 'E'],\n",
    "    'Uncharged': ['S', 'T', 'N', 'Q'],\n",
    "    'Hydrophobic': ['A', 'V', 'L', 'I', 'M', 'F', 'W', 'Y'],\n",
    "    'Special cases': ['C', 'G', 'P'],\n",
    "}\n",
    "\n",
    "# Mapping of one-letter codes to full names\n",
    "amino_acid_names = {\n",
    "    'S': 'Serine', 'T': 'Threonine', 'Y': 'Tyrosine', 'N': 'Asparagine', 'Q': 'Glutamine',\n",
    "    'A': 'Alanine', 'V': 'Valine', 'L': 'Leucine', 'I': 'Isoleucine', 'M': 'Methionine',\n",
    "    'D': 'Aspartic Acid', 'E': 'Glutamic Acid',\n",
    "    'K': 'Lysine', 'R': 'Arginine', 'H': 'Histidine',\n",
    "    'F': 'Phenylalanine', 'W': 'Tryptophan',\n",
    "    'C': 'Cysteine', 'G': 'Glycine', 'P': 'Proline',\n",
    "}\n",
    "\n",
    "# Print the amino acid categories\n",
    "for category, amino_acids in amino_acid_categories.items():\n",
    "    full_names = [amino_acid_names[code] for code in amino_acids]\n",
    "    print(f'{category} Amino Acids ({\", \".join(amino_acids)}): {\", \".join(full_names)}')"
   ]
  },
  {
   "cell_type": "code",
   "execution_count": 88,
   "id": "c3651ace-1383-4fd9-a436-cace6b5811d5",
   "metadata": {
    "tags": []
   },
   "outputs": [
    {
     "data": {
      "image/png": "[encoded data removed]",
      "text/plain": [
       "<Figure size 1200x600 with 1 Axes>"
      ]
     },
     "metadata": {},
     "output_type": "display_data"
    }
   ],
   "source": [
    "import seaborn as sns\n",
    "\n",
    "# Assign colours to each amino acid category\n",
    "category_colours = {\n",
    "    'Positively charged': 'blue',\n",
    "    'Negatively charged': 'red',\n",
    "    'Uncharged': 'green',\n",
    "    'Hydrophobic': 'purple',\n",
    "    'Special cases': 'orange',\n",
    "}\n",
    "\n",
    "# Use the same code as in section two\n",
    "classifier = RandomForestClassifier()\n",
    "classifier.fit(X_train, y_train)\n",
    "\n",
    "feature_importances = classifier.feature_importances_\n",
    "\n",
    "importance_df = pd.DataFrame({'Amino Acid': amino_acid_df.columns, 'Importance': feature_importances})\n",
    "\n",
    "# Then map amino acids to their categories\n",
    "importance_df['Category'] = importance_df['Amino Acid'].apply(\n",
    "    lambda amino_acid: next(category for category, acids in amino_acid_categories.items() if amino_acid in acids)\n",
    ")\n",
    "\n",
    "# And then map categories to colours\n",
    "importance_df['Colour'] = importance_df['Category'].map(category_colours)\n",
    "\n",
    "# Sort the dataframe by importance in descending order\n",
    "importance_df = importance_df.sort_values(by='Importance', ascending=False)\n",
    "\n",
    "# Plot the feature importances with coloured bars\n",
    "plt.figure(figsize=(12, 6))\n",
    "bars = plt.bar(importance_df['Amino Acid'], importance_df['Importance'], color=importance_df['Colour'])\n",
    "\n",
    "# Add legend\n",
    "legend_labels = [(category, colour) for category, colour in category_colours.items()]\n",
    "plt.legend(handles=[plt.Rectangle((0, 0), 1, 1, color=colour, label=label) for label, colour in legend_labels], loc='upper right')\n",
    "\n",
    "plt.xlabel('Amino Acid')\n",
    "plt.ylabel('Importance')\n",
    "plt.title('Feature Importance for Secretion System Prediction')\n",
    "plt.xticks(rotation=45)\n",
    "plt.show()"
   ]
  },
  {
   "cell_type": "markdown",
   "id": "6e654b0c-524c-46f9-8d82-263ccfb0352c",
   "metadata": {},
   "source": [
    "This suggests hydrophobic amino acids are not very important when making these predicrions, and therefore suggesting they are not very improtant in determining a protiens secretion system, along with the special case amino acids. \n",
    "\n",
    "This will be useful when designing protein constructs to use in the lab with the different protien secretion systems, and these sequences can be inputed to the model which can predict if the sequences are likely to be secreted via the system they are designed for or not. "
   ]
  },
  {
   "cell_type": "markdown",
   "id": "9505988a-c4f6-470d-a1de-8b1b09e6be78",
   "metadata": {},
   "source": [
    "# Section three:"
   ]
  },
  {
   "cell_type": "markdown",
   "id": "fa8633fe-506c-46f8-8617-8600e961888d",
   "metadata": {},
   "source": [
    "In section three we are going to use the model to make a prediction based off a sequence I have designed in the lab that is intended for secretion via the Sec system. "
   ]
  },
  {
   "cell_type": "markdown",
   "id": "16383762-9439-44a1-a4a8-77ff9af40b52",
   "metadata": {},
   "source": [
    "**Step one:** Input a lab sequence of interest "
   ]
  },
  {
   "cell_type": "code",
   "execution_count": 34,
   "id": "a25ea49d-6ebb-4d97-81dd-086b121fbe83",
   "metadata": {
    "tags": []
   },
   "outputs": [
    {
     "name": "stdout",
     "output_type": "stream",
     "text": [
      "Predicted Secretion System: sec\n"
     ]
    }
   ],
   "source": [
    "import numpy as np\n",
    "\n",
    "# Using a lab sequence \n",
    "lab_sequence = \"MGRKLTALFVASTLALGAANLAHAADTTTAAPADAKPMMHHKGKFGPHQDMMFKDLNLTDAQKQQIREIMKGQRDQMKRPPLEERRAMHDIIASDTFDKVKAEAQIAKMEEQRKANMLAHMETQNKIYNILTPEQKKQFNANFEKRLTERPAAKGKMPATAE\"\n",
    "\n",
    "# Calculate amino acid composition for the new sequence\n",
    "new_amino_acid_composition = calculate_amino_acid_composition(lab_sequence)\n",
    "\n",
    "# Create a dataframe for the new sequence\n",
    "lab_sequence_df = pd.DataFrame([new_amino_acid_composition])\n",
    "\n",
    "# Use the trained RandomForest classifier to predict the secretion system\n",
    "predicted_secretion_system = classifier.predict(lab_sequence_df)\n",
    "\n",
    "print(f\"Predicted Secretion System: {predicted_secretion_system[0]}\")"
   ]
  },
  {
   "cell_type": "markdown",
   "id": "db814841-19df-4503-94fb-e8a1bda8b600",
   "metadata": {},
   "source": [
    "This is the output from the model, predicting that this input sequence will be secreted via the Sec system, as this is what the protien was designed for I can now progress with the production of this protein and its use in lab based experiments. "
   ]
  }
 ],
 "metadata": {
  "kernelspec": {
   "display_name": "Python 3 (ipykernel)",
   "language": "python",
   "name": "python3"
  },
  "language_info": {
   "codemirror_mode": {
    "name": "ipython",
    "version": 3
   },
   "file_extension": ".py",
   "mimetype": "text/x-python",
   "name": "python",
   "nbconvert_exporter": "python",
   "pygments_lexer": "ipython3",
   "version": "3.11.5"
  }
 },
 "nbformat": 4,
 "nbformat_minor": 5
}
